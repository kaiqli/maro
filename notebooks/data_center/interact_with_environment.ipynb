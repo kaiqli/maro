{
 "cells": [
  {
   "cell_type": "markdown",
   "metadata": {},
   "source": [
    "# Quick Start\n",
    "\n",
    "Below is a simple demo of interaction with the environment of the vm sheduling sceanrio."
   ]
  },
  {
   "cell_type": "code",
   "execution_count": 4,
   "metadata": {},
   "outputs": [
    {
     "name": "stdout",
     "output_type": "stream",
     "text": [
      "\u001b[32mDownloading data from https://marodatasource.blob.core.windows.net/vm-scheduling-azure/azure.2019.10k/azure.2019.10k.tar.gz to /home/kuanweiyu/.maro/data/vm_scheduling/.build/azure.2019.10k/azure.2019.10k.tar.gz.\u001b[0m\n",
      "\u001b[32mDownload finished.\u001b[0m\n",
      "\u001b[32mUnzip /home/kuanweiyu/.maro/data/vm_scheduling/.build/azure.2019.10k/azure.2019.10k.tar.gz to /home/kuanweiyu/.maro/data/vm_scheduling/.build/azure.2019.10k\u001b[0m\n",
      "{'total_vm_requests': 10000, 'total_energy_consumption': 863800.0, 'successful_placement': 0, 'successful_completion': 0, 'failed_placement': 0, 'total_latency': Latency(Agent=0, Resource=0), 'total_oversubscriptions': 0}\n"
     ]
    }
   ],
   "source": [
    "from maro.simulator import Env\n",
    "from maro.simulator.scenarios.vm_scheduling import PlaceAction, DecisionPayload\n",
    "\n",
    "env = Env(scenario=\"vm_scheduling\", topology=\"azure.2019.10k\", start_tick=0, durations=8638, snapshot_resolution=1)\n",
    "\n",
    "metrics: object = None\n",
    "decision_payload: DecisionPayload = None\n",
    "is_done: bool = False\n",
    "\n",
    "while not is_done:\n",
    "    action: PlaceAction = None\n",
    "    metrics, decision_payload, is_done = env.step(action)\n",
    "\n",
    "print(metrics)"
   ]
  },
  {
   "cell_type": "markdown",
   "metadata": {},
   "source": [
    "# Environment of the vm scheduling\n",
    "\n",
    "To initialize an environment, you need to specify the values of several parameters:\n",
    "\n",
    "- **scenario**: The target scenario of this Env.\n",
    "  - vm_scheduling denotes for the virtual machine scheuling.\n",
    "- **topology**: The target topology of this Env. As shown below, you can get the predefined topology list by calling `get_topologies(scenario='vm_scheduling')`\n",
    "- **start_tick**: The start tick of this Env, 1 tick corresponds to 5 minutes in vm_scheduling.\n",
    "  - In the demo above, start_tick=0 indicates a simulation start from the beginning of the given topology.\n",
    "- **durations**: The duration of thie Env, in the unit of tick/5minute.\n",
    "  - In the demo above, durations=8638 indicates a simulation length of 30 days (30d * 24h * 60m / 5).\n",
    "- **snapshot_resolution**: The time granularity of maintaining the snapshots of the environments, in the unit of tick/5minute.\n",
    "  - In the demo above, snapshot_resolution=1 indicates that a snapshot will be created and saved every tick during the simulation.\n",
    "  \n",
    "You can get all available scenarios and topologies by calling:\n"
   ]
  },
  {
   "cell_type": "code",
   "execution_count": 6,
   "metadata": {},
   "outputs": [
    {
     "name": "stdout",
     "output_type": "stream",
     "text": [
      "'The available scenarios in MARO:'\n",
      "['cim', 'citi_bike', 'vm_scheduling']\n",
      "\n",
      "'The predefined topologies in VM Scheuling:'\n",
      "['azure.2019.10k', 'azure.2019.336k', 'azure.2019.original']\n"
     ]
    }
   ],
   "source": [
    "from maro.simulator.utils import get_scenarios, get_topologies\n",
    "from pprint import pprint\n",
    "from typing import List\n",
    "\n",
    "scenarios: List[str] = get_scenarios()\n",
    "topologies: List[str] = get_topologies(scenario='vm_scheduling')\n",
    "\n",
    "pprint(f'The available scenarios in MARO:')\n",
    "pprint(scenarios)\n",
    "\n",
    "print()\n",
    "pprint(f'The predefined topologies in VM Scheuling:')\n",
    "pprint(topologies)"
   ]
  },
  {
   "cell_type": "markdown",
   "metadata": {},
   "source": [
    "Once you created an instance of the environment, you can easily access the real-time information of this environment, like:"
   ]
  },
  {
   "cell_type": "code",
   "execution_count": 8,
   "metadata": {},
   "outputs": [
    {
     "name": "stdout",
     "output_type": "stream",
     "text": [
      "The current tick: 0.\n",
      "The current frame index: 0.\n",
      "There will be 8638 snapshots in total.\n",
      "\n",
      "Env Summary:\n",
      "{'event_payload': {'PENDING_DECISION': ['valid_pms',\n",
      "                                        'vm_id',\n",
      "                                        'vm_cpu_cores_requirement',\n",
      "                                        'vm_memory_requirement',\n",
      "                                        'remaining_buffer_time'],\n",
      "                   'REQUEST': ['vm_info', 'remaining_buffer_time']},\n",
      " 'node_detail': {'pms': {'attributes': {'cpu_cores_allocated': {'slots': 1,\n",
      "                                                                'type': 'i2'},\n",
      "                                        'cpu_cores_capacity': {'slots': 1,\n",
      "                                                               'type': 'i2'},\n",
      "                                        'cpu_utilization': {'slots': 1,\n",
      "                                                            'type': 'f'},\n",
      "                                        'energy_consumption': {'slots': 1,\n",
      "                                                               'type': 'f'},\n",
      "                                        'id': {'slots': 1, 'type': 'i'},\n",
      "                                        'memory_allocated': {'slots': 1,\n",
      "                                                             'type': 'i2'},\n",
      "                                        'memory_capacity': {'slots': 1,\n",
      "                                                            'type': 'i2'}},\n",
      "                         'number': 100}},\n",
      " 'node_mapping': {}}\n",
      "\n",
      "Env Metrics:\n",
      "{'total_vm_requests': 0, 'total_energy_consumption': 0, 'successful_placement': 0, 'successful_completion': 0, 'failed_placement': 0, 'total_latency': Latency(Agent=0, Resource=0), 'total_oversubscriptions': 0}\n"
     ]
    }
   ],
   "source": [
    "from maro.backends.frame import SnapshotList\n",
    "from maro.simulator import Env\n",
    "from pprint import pprint\n",
    "from typing import List\n",
    "\n",
    "\n",
    "# Initialize an Env for citi_bike scenario\n",
    "env = Env(scenario=\"vm_scheduling\", topology=\"azure.2019.10k\", start_tick=0, durations=8638, snapshot_resolution=1)\n",
    "\n",
    "# The current tick\n",
    "tick: int = env.tick\n",
    "print(f\"The current tick: {tick}.\")\n",
    "\n",
    "# The current frame index, which indicates the index of current frame in the snapshot-list\n",
    "frame_index: int = env.frame_index\n",
    "print(f\"The current frame index: {frame_index}.\")\n",
    "\n",
    "# The whole snapshot-list of the environment, snapshots are taken in the granularity of the given snapshot_resolution\n",
    "# The example of how to use the snapshot will be shown later\n",
    "snapshot_list: SnapshotList = env.snapshot_list\n",
    "print(f\"There will be {len(snapshot_list)} snapshots in total.\")\n",
    "\n",
    "# The summary info of the environment\n",
    "summary: dict = env.summary\n",
    "print(f\"\\nEnv Summary:\")\n",
    "pprint(summary)\n",
    "\n",
    "# The metrics of the environment\n",
    "metrics: dict = env.metrics\n",
    "print(f\"\\nEnv Metrics:\")\n",
    "pprint(metrics)"
   ]
  },
  {
   "cell_type": "markdown",
   "metadata": {},
   "source": [
    "# Interaction with the environment\n",
    "\n",
    "Before starting interaction with the environment, we need to know **DecisionPayload** and **Action** first."
   ]
  },
  {
   "cell_type": "code",
   "execution_count": null,
   "metadata": {},
   "outputs": [],
   "source": []
  }
 ],
 "metadata": {
  "kernelspec": {
   "display_name": "maro_venv",
   "language": "python",
   "name": "maro_venv"
  },
  "language_info": {
   "codemirror_mode": {
    "name": "ipython",
    "version": 3
   },
   "file_extension": ".py",
   "mimetype": "text/x-python",
   "name": "python",
   "nbconvert_exporter": "python",
   "pygments_lexer": "ipython3",
   "version": "3.8.5"
  }
 },
 "nbformat": 4,
 "nbformat_minor": 4
}
